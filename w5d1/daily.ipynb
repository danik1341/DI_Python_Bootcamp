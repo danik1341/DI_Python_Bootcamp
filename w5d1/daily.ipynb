{
 "cells": [
  {
   "cell_type": "markdown",
   "metadata": {},
   "source": [
    "### Daily Challenge "
   ]
  },
  {
   "cell_type": "code",
   "execution_count": 7,
   "metadata": {},
   "outputs": [],
   "source": [
    "import numpy as np"
   ]
  },
  {
   "cell_type": "markdown",
   "metadata": {},
   "source": [
    "## 1"
   ]
  },
  {
   "cell_type": "code",
   "execution_count": 2,
   "metadata": {},
   "outputs": [
    {
     "name": "stdout",
     "output_type": "stream",
     "text": [
      "Original Data:\n",
      "[[80 71 15 28 28]\n",
      " [89 38 23 93  6]\n",
      " [59 30 95 93  5]\n",
      " [60 67 64 16  9]\n",
      " [45 14 79 33 10]]\n",
      "\n",
      "Data with Swapped Rows:\n",
      "[[80 71 15 28 28]\n",
      " [60 67 64 16  9]\n",
      " [59 30 95 93  5]\n",
      " [89 38 23 93  6]\n",
      " [45 14 79 33 10]]\n"
     ]
    }
   ],
   "source": [
    "data = np.array(np.random.randint(1, 100, size=25)).reshape(5, 5)\n",
    "print(\"Original Data:\")\n",
    "print(data)\n",
    "\n",
    "data[1], data[3] = data[3].copy(), data[1].copy()\n",
    "\n",
    "print(\"\\nData with Swapped Rows:\")\n",
    "print(data)"
   ]
  },
  {
   "cell_type": "markdown",
   "metadata": {},
   "source": [
    "## 2"
   ]
  },
  {
   "cell_type": "code",
   "execution_count": 5,
   "metadata": {},
   "outputs": [
    {
     "name": "stdout",
     "output_type": "stream",
     "text": [
      "Original Data:\n",
      "[[ 2 89 27 91 25]\n",
      " [91  5 75 75 25]\n",
      " [55 42 85 57 47]\n",
      " [88 90 19 65  5]\n",
      " [38 68 87 96 60]]\n",
      "\n",
      "Normalized Data:\n",
      "[[0.         0.92553191 0.26595745 0.94680851 0.24468085]\n",
      " [0.94680851 0.03191489 0.77659574 0.77659574 0.24468085]\n",
      " [0.56382979 0.42553191 0.88297872 0.58510638 0.4787234 ]\n",
      " [0.91489362 0.93617021 0.18085106 0.67021277 0.03191489]\n",
      " [0.38297872 0.70212766 0.90425532 1.         0.61702128]]\n"
     ]
    }
   ],
   "source": [
    "data = np.array(np.random.randint(1, 100, size=25)).reshape(5, 5)\n",
    "print(\"Original Data:\")\n",
    "print(data)\n",
    "\n",
    "min_val = np.min(data)\n",
    "max_val = np.max(data)\n",
    "normalized_data = (data - min_val) / (max_val - min_val)\n",
    "\n",
    "print(\"\\nNormalized Data:\")\n",
    "print(normalized_data)"
   ]
  },
  {
   "cell_type": "markdown",
   "metadata": {},
   "source": [
    "## 3"
   ]
  },
  {
   "cell_type": "code",
   "execution_count": 6,
   "metadata": {},
   "outputs": [
    {
     "name": "stdout",
     "output_type": "stream",
     "text": [
      "Original Data:\n",
      "[[42  5 46 11 49]\n",
      " [18 15 28 30 25]\n",
      " [62 95  3 59  5]\n",
      " [95 69 37 59 43]\n",
      " [30 92 15 93 10]]\n",
      "\n",
      "Z-score Normalized Data:\n",
      "[[ 0.01906918 -1.24085885  0.15527762 -1.0365462   0.25743394]\n",
      " [-0.79818143 -0.90033776 -0.45766034 -0.38955613 -0.55981667]\n",
      " [ 0.70011136  1.82383096 -1.30896307  0.59795503 -1.24085885]\n",
      " [ 1.82383096  0.93847612 -0.15119136  0.59795503  0.05312129]\n",
      " [-0.38955613  1.72167463 -0.90033776  1.75572674 -1.07059831]]\n"
     ]
    }
   ],
   "source": [
    "data = np.array(np.random.randint(1, 100, size=25)).reshape(5, 5)\n",
    "print(\"Original Data:\")\n",
    "print(data)\n",
    "\n",
    "mean_val = np.mean(data)\n",
    "std_val = np.std(data)\n",
    "\n",
    "z_score_data = (data - mean_val) / std_val\n",
    "\n",
    "print(\"\\nZ-score Normalized Data:\")\n",
    "print(z_score_data)"
   ]
  },
  {
   "cell_type": "markdown",
   "metadata": {},
   "source": [
    "## 4"
   ]
  },
  {
   "cell_type": "code",
   "execution_count": 8,
   "metadata": {},
   "outputs": [
    {
     "name": "stdout",
     "output_type": "stream",
     "text": [
      "Original Data:\n",
      "[[85 49 30 10 44]\n",
      " [79 60 41 60 27]\n",
      " [82 91 42 11  7]\n",
      " [68 19 32  8 54]\n",
      " [ 7 66 29 48 27]]\n",
      "\n",
      "Sub-arrays:\n",
      "[85 49 30 10 44]\n",
      "[79 60 41 60 27]\n",
      "[82 91 42 11  7]\n",
      "[68 19 32  8 54]\n",
      "[ 7 66 29 48 27]\n"
     ]
    }
   ],
   "source": [
    "data = np.array(np.random.randint(1, 100, size=25)).reshape(5, 5)\n",
    "print(\"Original Data:\")\n",
    "print(data)\n",
    "\n",
    "flattened_data = np.ravel(data)\n",
    "\n",
    "num_subarrays = 5\n",
    "sub_arrays = np.split(flattened_data, num_subarrays)\n",
    "\n",
    "print(\"\\nSub-arrays:\")\n",
    "for sub_array in sub_arrays:\n",
    "    print(sub_array)"
   ]
  },
  {
   "cell_type": "markdown",
   "metadata": {},
   "source": [
    "## 5"
   ]
  },
  {
   "cell_type": "code",
   "execution_count": 9,
   "metadata": {},
   "outputs": [
    {
     "name": "stdout",
     "output_type": "stream",
     "text": [
      "Dot Product: 198\n"
     ]
    }
   ],
   "source": [
    "vector1 = np.array([3, 5, 6, 7, 8])\n",
    "vector2 = np.array([2, 4, 6, 8, 10])\n",
    "\n",
    "dot_product = np.dot(vector1, vector2)\n",
    "\n",
    "print(\"Dot Product:\", dot_product)"
   ]
  },
  {
   "cell_type": "markdown",
   "metadata": {},
   "source": [
    "## 6"
   ]
  },
  {
   "cell_type": "code",
   "execution_count": 10,
   "metadata": {},
   "outputs": [
    {
     "name": "stdout",
     "output_type": "stream",
     "text": [
      "Matrix Product:\n",
      "[[9706 7648 7466]\n",
      " [7934 5691 4144]\n",
      " [6420 6839 8817]]\n"
     ]
    }
   ],
   "source": [
    "data = np.array(np.random.randint(1, 100, size=25)).reshape(5, 5)\n",
    "data2 = np.array(np.random.randint(1, 100, size=9)).reshape(3, 3)\n",
    "\n",
    "matrix_product = np.dot(data[:3, :3], data2)\n",
    "\n",
    "print(\"Matrix Product:\")\n",
    "print(matrix_product)"
   ]
  },
  {
   "cell_type": "markdown",
   "metadata": {},
   "source": [
    "## 7"
   ]
  },
  {
   "cell_type": "code",
   "execution_count": 12,
   "metadata": {},
   "outputs": [
    {
     "name": "stdout",
     "output_type": "stream",
     "text": [
      "Inverse Matrix:\n",
      "[[0.5 0.  0. ]\n",
      " [0.  0.5 0. ]\n",
      " [0.  0.  0.5]]\n"
     ]
    }
   ],
   "source": [
    "identity_matrix = np.identity(3)\n",
    "scaled_matrix = 2 * identity_matrix\n",
    "inverse_matrix = np.linalg.inv(scaled_matrix)\n",
    "\n",
    "print(\"Inverse Matrix:\")\n",
    "print(inverse_matrix)"
   ]
  },
  {
   "cell_type": "markdown",
   "metadata": {},
   "source": [
    "## 8"
   ]
  },
  {
   "cell_type": "code",
   "execution_count": 14,
   "metadata": {},
   "outputs": [
    {
     "name": "stdout",
     "output_type": "stream",
     "text": [
      "Eigenvalues: [184.49690886 -20.32152669   5.82461783]\n",
      "Eigenvectors: [[-0.62835358 -0.70401395  0.04072284]\n",
      " [-0.45836131  0.68607482 -0.32165533]\n",
      " [-0.62855125  0.18348215  0.94598071]]\n"
     ]
    }
   ],
   "source": [
    "data = np.array(np.random.randint(1, 100, size=25)).reshape(5, 5)\n",
    "data_3x3 = data[:3, :3]\n",
    "\n",
    "eigenvalues, eigenvectors = np.linalg.eig(data_3x3)\n",
    "\n",
    "print(\"Eigenvalues:\", eigenvalues)\n",
    "print(\"Eigenvectors:\", eigenvectors)"
   ]
  },
  {
   "cell_type": "markdown",
   "metadata": {},
   "source": [
    "## 9"
   ]
  },
  {
   "cell_type": "code",
   "execution_count": 18,
   "metadata": {},
   "outputs": [
    {
     "name": "stdout",
     "output_type": "stream",
     "text": [
      "(array([ 1,  3,  7, 22, 24], dtype=int64),)\n"
     ]
    }
   ],
   "source": [
    "data = np.array(np.random.randint(1, 100, size=25)).reshape(5, 5)\n",
    "indices = np.random.choice(data.size, 5, replace=False)\n",
    "data_flattened = data.flatten().astype(float)\n",
    "data_flattened[indices] = np.nan\n",
    "\n",
    "missing_indices = np.where(np.isnan(data_flattened))\n",
    "print(missing_indices)"
   ]
  },
  {
   "cell_type": "markdown",
   "metadata": {},
   "source": [
    "## 10"
   ]
  },
  {
   "cell_type": "code",
   "execution_count": 19,
   "metadata": {},
   "outputs": [
    {
     "name": "stdout",
     "output_type": "stream",
     "text": [
      "[[98.  51.7 55.  34.  58. ]\n",
      " [60.   1.  51.7 51.7 19. ]\n",
      " [68.  24.  45.   7.  26. ]\n",
      " [51.7 93.  66.  14.  77. ]\n",
      " [93.  78.  65.  53.  51.7]]\n"
     ]
    }
   ],
   "source": [
    "data = np.array(np.random.randint(1, 100, size=25)).reshape(5, 5)\n",
    "indices = np.random.choice(data.size, 5, replace=False)\n",
    "data_flattened = data.flatten().astype(float)\n",
    "data_flattened[indices] = np.nan\n",
    "\n",
    "missing_indices = np.where(np.isnan(data_flattened))\n",
    "\n",
    "mean_value = np.nanmean(data_flattened)\n",
    "data_flattened[missing_indices] = mean_value\n",
    "\n",
    "data_filled = data_flattened.reshape(5, 5)\n",
    "print(data_filled)"
   ]
  }
 ],
 "metadata": {
  "kernelspec": {
   "display_name": "Python 3",
   "language": "python",
   "name": "python3"
  },
  "language_info": {
   "codemirror_mode": {
    "name": "ipython",
    "version": 3
   },
   "file_extension": ".py",
   "mimetype": "text/x-python",
   "name": "python",
   "nbconvert_exporter": "python",
   "pygments_lexer": "ipython3",
   "version": "3.11.4"
  },
  "orig_nbformat": 4
 },
 "nbformat": 4,
 "nbformat_minor": 2
}
